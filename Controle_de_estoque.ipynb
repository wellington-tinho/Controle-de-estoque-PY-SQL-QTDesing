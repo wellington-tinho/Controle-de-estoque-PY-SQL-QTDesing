{
  "nbformat": 4,
  "nbformat_minor": 0,
  "metadata": {
    "colab": {
      "name": "Controle de estoque.ipynb",
      "provenance": [],
      "include_colab_link": true
    },
    "kernelspec": {
      "name": "python3",
      "display_name": "Python 3"
    }
  },
  "cells": [
    {
      "cell_type": "markdown",
      "metadata": {
        "id": "view-in-github",
        "colab_type": "text"
      },
      "source": [
        "<a href=\"https://colab.research.google.com/github/wrtinho/crud_simples_em_python/blob/master/Controle_de_estoque.ipynb\" target=\"_parent\"><img src=\"https://colab.research.google.com/assets/colab-badge.svg\" alt=\"Open In Colab\"/></a>"
      ]
    },
    {
      "cell_type": "code",
      "metadata": {
        "id": "xPf8dKkk3LzL"
      },
      "source": [
        "class Produtos():\n",
        "  estoque_total=0\n",
        "  def __init__(self,nome,quantidade):\n",
        "    self.__quantidade=quantidade\n",
        "    self.__nome=nome\n",
        "    Produtos.estoque_total+=int(quantidade)\n",
        "\n",
        "  @property\n",
        "  def quantidade(self):\n",
        "    return self.__quantidade\n",
        "\n",
        "  @quantidade.setter\n",
        "  def quantidade(self,value):\n",
        "      self.__quantidade=value\n",
        "  \n",
        "  @property\n",
        "  def nome(self):\n",
        "    return self.__nome\n",
        "\n",
        "  @nome.setter\n",
        "  def nome(self,value):\n",
        "    self.__nome=value\n",
        "\n",
        "\n",
        "class Usuario():\n",
        "  def __init__(self,nome,id):\n",
        "    self.__nome=nome\n",
        "    self.__id=id\n",
        "  \n",
        "  @property\n",
        "  def nome(self):\n",
        "    return self.__nome\n",
        "\n",
        "  @nome.setter\n",
        "  def nome(self,value):\n",
        "    self.__nome=value\n",
        "\n",
        "  @property\n",
        "  def id(self):\n",
        "    return self.__id\n",
        "\n",
        "  @id.setter\n",
        "  def id(self,value):\n",
        "      self.__id=value\n",
        "\n",
        "\n",
        "class Funcionario(Usuario):\n",
        "  def __init__(self,nome,id,ocupacao):\n",
        "    Usuario.__init__(self,nome,id)\n",
        "    self.__ocupacao=ocupacao\n",
        "\n",
        "  @property\n",
        "  def ocupacao(self):\n",
        "    return self.__ocupacao\n",
        "\n",
        "  @ocupacao.setter\n",
        "  def ocupacao(self,value):\n",
        "      selfocupacao=value\n",
        "\n"
      ],
      "execution_count": 100,
      "outputs": []
    },
    {
      "cell_type": "code",
      "metadata": {
        "id": "RkWuAmtog7xo",
        "colab": {
          "base_uri": "https://localhost:8080/"
        },
        "outputId": "7fb9e73d-fc30-4e57-8a3a-42b312edec5b"
      },
      "source": [
        "pessoas_cadastradas=[]\n",
        "\n",
        "def venda_produtos(produto,quantidade):\n",
        "  Produtos.quantidade(Produtos.quantidade - quantidade)\n",
        "\n",
        "def cadastro_produtos():\n",
        "  Produtos.__init__(self,quantidade)\n",
        "\n",
        "def cadastro_usuario(nome,id):\n",
        "  user=Usuario(nome,id)\n",
        "  pessoas_cadastradas.append(user)\n",
        "  return user\n",
        "  \n",
        "\n",
        "def cadastro_funcionario(nome,id,ocupacao):\n",
        "  user=Funcionario(nome,id,ocupacao)\n",
        "  pessoas_cadastradas.append(user)\n",
        "  return user\n",
        "\n",
        "\n"
      ],
      "execution_count": 85,
      "outputs": [
        {
          "output_type": "stream",
          "text": [
            "0\n"
          ],
          "name": "stdout"
        }
      ]
    },
    {
      "cell_type": "code",
      "metadata": {
        "id": "maXsMJjshB4W"
      },
      "source": [
        "#Regra de Negocio / Validação \n",
        "def is_funcionario(pessoa):\n",
        "  return isinstance(pessoa, Funcionario)\n",
        "\n",
        "def is_cliente(pessoa):\n",
        "  return isinstance(pessoa, Usuario)\n",
        "\n",
        "def tem_qtd_disponivel(quantidade):\n",
        "  return Produtos.quantidade > quantidade\n",
        "\n"
      ],
      "execution_count": null,
      "outputs": []
    },
    {
      "cell_type": "code",
      "metadata": {
        "id": "7DYfZGeNhHWW"
      },
      "source": [
        "def menu():\n",
        "  home_menu=\"\"\"\n",
        "  Bem Vindo ao gerenciador de estoque WK, escolha uma opção.\n",
        "  \n",
        "  1 - Login | Cadastro\n",
        "  2 - Realizar Compra | Venda \n",
        "  3 - Primeira vez no \n",
        "  4 - Administracao\n",
        "  0 - Sair\n",
        "  \"\"\"\n",
        "  menu_escolha_user=\"\"\"\n",
        "  1 - Cliente\n",
        "  2 - Funcionario\n",
        "  3 - Voltar\n",
        "  0 - Sair\n",
        "  \"\"\"\n",
        "\n",
        "  menu_entrar_cliente=\"\"\"\n",
        "  Para entrar insira seu e ID (separando-os por virgula ',')\n",
        "  09344611362\n",
        "\n",
        "  Para efetuar cadastro insira seu nome e seu identificador unico (separando-os por virgula ',')\n",
        "  ex: Wellington,09344611362\n",
        "\n",
        "  Para sair digite:  0\n",
        "  \"\"\"\n",
        "  #escolha=input(\"\").split(',')\n",
        "  #if (len(escolha)) == 1 and escolha != 0.  atribui variavel global entrar Cliente\n",
        "  #elif (len(escolha)) == 1 Chama função do cadastro e atribui variavel global entrar Cliente\n",
        "  #else voce escolheu sair \n",
        "\n",
        "\n",
        "  menu_entrar_Funcionario=\"\"\"\n",
        "   Para entrar insira seu nome cadastrado e ID (separando-os por virgula ',')\n",
        "    Wellington,09344611362\n",
        "\n",
        "  Para efetuar cadastro insira seu nome, sua ocupação e seu identificador unico (separando-os por virgula ',')\n",
        "  ex: Wellington,developer,09344611362\n",
        "\n",
        "  Para sair digite:  0\n",
        "  \"\"\"\n",
        "  #escolha=input(\"\").split(',')\n",
        "  #if (len(escolha)) == 2 atribui variavel global entrar Funcionario\n",
        "  #elif (len(escolha)) == 1 and escolha != 0 Chama função do cadastro e atribui variavel global  entrar Cliente\n",
        "  #else voce escolheu sair \n",
        "\n",
        "  compra_step1=\"\"\"\n",
        "  Identificamos que voce esta logado como Cliente logo assim irá realizar uma compra\n",
        "\n",
        "  Para logar como Funcionario \n",
        "  digite:  0\n",
        "  E faça o Login novamente\n",
        "\n",
        "  Caso Contrario informe o ID valido do Funcionario para iniciar a validaçao da compra\n",
        "  \"\"\"\n",
        "\n",
        "  venda_step1=\"\"\"\n",
        "  Identificamos que voce esta logado como Funcionario logo assim irá realizar uma venda\n",
        "\n",
        "  Para logar como Cliente \n",
        "  digite:  0\n",
        "  E faça o Login novamente\n",
        "\n",
        "  Caso Contrario informe o ID valido do Cliente para iniciar a Venda\n",
        "  \"\"\"\n",
        "\n",
        "  compra_venda_step2=\"\"\"\n",
        "  Informe a quantidade desejada\n",
        "\n",
        "  Para sair digite:  0\n",
        "  \"\"\"\n",
        "  return home_menu,menu_escolha_user,menu_entrar_cliente,menu_entrar_Funcionario,compra_step1,venda_step1,compra_venda_step2\n",
        "\n"
      ],
      "execution_count": null,
      "outputs": []
    }
  ]
}