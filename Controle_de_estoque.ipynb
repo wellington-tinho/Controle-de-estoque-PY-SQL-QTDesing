{
  "nbformat": 4,
  "nbformat_minor": 0,
  "metadata": {
    "colab": {
      "name": "Controle de estoque.ipynb",
      "provenance": [],
      "authorship_tag": "ABX9TyOrkYjbN4M4CA/vTlFGKjkh",
      "include_colab_link": true
    },
    "kernelspec": {
      "name": "python3",
      "display_name": "Python 3"
    }
  },
  "cells": [
    {
      "cell_type": "markdown",
      "metadata": {
        "id": "view-in-github",
        "colab_type": "text"
      },
      "source": [
        "<a href=\"https://colab.research.google.com/github/wrtinho/crud_simples_em_python/blob/master/Controle_de_estoque.ipynb\" target=\"_parent\"><img src=\"https://colab.research.google.com/assets/colab-badge.svg\" alt=\"Open In Colab\"/></a>"
      ]
    },
    {
      "cell_type": "code",
      "metadata": {
        "id": "xPf8dKkk3LzL"
      },
      "source": [
        "class Produtos():\n",
        "  def __init__(self,quantidade):\n",
        "    self.__quantidade=quantidade\n",
        "    # self.__nome=nome\n",
        "\n",
        "  @property\n",
        "  def quantidade(self):\n",
        "    return self.__quantidade\n",
        "\n",
        "  @quantidade.setter\n",
        "  def quantidade(self,value):\n",
        "      self.__quantidade=value\n",
        "  \n",
        "  # @property\n",
        "  # def nome(self):\n",
        "  #   return self.__nome\n",
        "\n",
        "  # @nome.setter\n",
        "  # def nome(self,value):\n",
        "  #   self.__nome=value\n",
        "\n",
        "\n",
        "class Usuario():\n",
        "  def __init__(self,nome,id):\n",
        "    self.__nome=nome\n",
        "    self.__id=id\n",
        "  \n",
        "  @property\n",
        "  def nome(self):\n",
        "    return self.__nome\n",
        "\n",
        "  @nome.setter\n",
        "  def nome(self,value):\n",
        "    self.__nome=value\n",
        "\n",
        "  @property\n",
        "  def id(self):\n",
        "    return self.__id\n",
        "\n",
        "  @id.setter\n",
        "  def id(self,value):\n",
        "      self.__id=value\n",
        "\n",
        "\n",
        "class Funcionario(Usuario):\n",
        "  def __init__(self,nome,id,ocupacao):\n",
        "    Usuario.__init__(self,nome,id)\n",
        "    self.__ocupacao=ocupacao\n",
        "\n",
        "  @property\n",
        "  def ocupacao(self):\n",
        "    return self.__ocupacao\n",
        "\n",
        "  @ocupacao.setter\n",
        "  def ocupacao(self,value):\n",
        "      selfocupacao=value\n",
        "\n"
      ],
      "execution_count": 13,
      "outputs": []
    },
    {
      "cell_type": "code",
      "metadata": {
        "id": "RkWuAmtog7xo"
      },
      "source": [
        "def venda_produtos(produto,quantidade):\n",
        "  Produtos.quantidade(Produtos.quantidade - quantidade)\n",
        "\n",
        "def cadastro_produtos():\n",
        "  Produtos.__init__(self,quantidade)\n",
        "\n",
        "def cadastro_usuario():\n",
        "  Usuario.__init__(self,nome,id)\n",
        "\n",
        "def cadastro_funcionario():\n",
        "  Funcionario.__init__(self,nome,id,ocupacao)"
      ],
      "execution_count": 14,
      "outputs": []
    },
    {
      "cell_type": "code",
      "metadata": {
        "id": "maXsMJjshB4W"
      },
      "source": [
        "#Regra de Negocio / Validação \n",
        "def is_funcionario(pessoa):\n",
        "  return isinstance(pessoa, Funcionario)\n",
        "\n",
        "def is_cliente(pessoa):\n",
        "  return isinstance(pessoa, Usuario)\n",
        "\n",
        "def tem_qtd_disponivel(quantidade):\n",
        "  return Produtos.quantidade > quantidade\n",
        "\n"
      ],
      "execution_count": 15,
      "outputs": []
    },
    {
      "cell_type": "code",
      "metadata": {
        "id": "7DYfZGeNhHWW"
      },
      "source": [
        ""
      ],
      "execution_count": 15,
      "outputs": []
    }
  ]
}